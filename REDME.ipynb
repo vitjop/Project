{
 "cells": [
  {
   "cell_type": "markdown",
   "id": "2cbaf4ed-e316-483d-90aa-52f960ae5a4a",
   "metadata": {},
   "source": [
    "# Pet Project: Chinook Music Store Analysis\n",
    "\n",
    "## Описание\n",
    "Анализ данных музыкального магазина Chinook. Цель — выявить факторы, влияющие на продажи и поведение клиентов, с помощью SQL, EDA и статистических тестов.\n",
    "\n",
    "## Задачи\n",
    "- Извлечение данных с помощью SQL-запросов\n",
    "- Приоритизация гипотез для проверки\n",
    "- Исследовательский анализ данных (EDA)\n",
    "- Подготовка данных (очистка, трансформация)\n",
    "- Проверка гипотез с помощью статистических критериев\n",
    "\n",
    "## Используемые технологии\n",
    "- Python\n",
    "- Pandas, NumPy\n",
    "- SQLite\n",
    "- Matplotlib, Seaborn\n",
    "- SciPy (статистические тесты)\n",
    "\n",
    "## Гипотезы\n",
    "1. Жанр музыки влияет на объем продаж\n",
    "2. Страна клиента влияет на средний чек\n",
    "3. Сотрудник (менеджер продаж) влияет на объем продаж\n",
    "4. Медиатип (аудио/видео) влияет на цену трека\n",
    "\n",
    "## Результаты\n",
    "- Проведен EDA, выявлены ключевые закономерности\n",
    "- Гипотезы проверены с помощью t-теста, ANOVA и хи-квадрат\n",
    "- Сделаны выводы для бизнеса"
   ]
  }
 ],
 "metadata": {
  "kernelspec": {
   "display_name": "Python 3 (ipykernel)",
   "language": "python",
   "name": "python3"
  },
  "language_info": {
   "codemirror_mode": {
    "name": "ipython",
    "version": 3
   },
   "file_extension": ".py",
   "mimetype": "text/x-python",
   "name": "python",
   "nbconvert_exporter": "python",
   "pygments_lexer": "ipython3",
   "version": "3.12.0"
  }
 },
 "nbformat": 4,
 "nbformat_minor": 5
}
